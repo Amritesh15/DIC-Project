{
 "cells": [
  {
   "cell_type": "code",
   "execution_count": 2,
   "id": "e10ffd06-7a01-4de3-a5f2-936b53fad081",
   "metadata": {},
   "outputs": [],
   "source": [
    "import pandas as pd\n",
    "import numpy as np\n",
    "import matplotlib.pyplot as plt"
   ]
  },
  {
   "cell_type": "code",
   "execution_count": 3,
   "id": "679568f8-dc52-4e28-98dc-308e40c962ac",
   "metadata": {},
   "outputs": [],
   "source": [
    "df = pd.read_csv(\"archive/papers.csv\")"
   ]
  },
  {
   "cell_type": "code",
   "execution_count": 34,
   "id": "3d4a0425-dff5-449b-969c-81a05b56357a",
   "metadata": {},
   "outputs": [
    {
     "data": {
      "text/html": [
       "<div>\n",
       "<style scoped>\n",
       "    .dataframe tbody tr th:only-of-type {\n",
       "        vertical-align: middle;\n",
       "    }\n",
       "\n",
       "    .dataframe tbody tr th {\n",
       "        vertical-align: top;\n",
       "    }\n",
       "\n",
       "    .dataframe thead th {\n",
       "        text-align: right;\n",
       "    }\n",
       "</style>\n",
       "<table border=\"1\" class=\"dataframe\">\n",
       "  <thead>\n",
       "    <tr style=\"text-align: right;\">\n",
       "      <th></th>\n",
       "      <th>source_id</th>\n",
       "      <th>year</th>\n",
       "      <th>title</th>\n",
       "      <th>abstract</th>\n",
       "      <th>full_text</th>\n",
       "    </tr>\n",
       "  </thead>\n",
       "  <tbody>\n",
       "    <tr>\n",
       "      <th>0</th>\n",
       "      <td>27</td>\n",
       "      <td>1987</td>\n",
       "      <td>Bit-Serial Neural Networks</td>\n",
       "      <td>NaN</td>\n",
       "      <td>573 \\n\\nBIT - SERIAL NEURAL  NETWORKS \\n\\nAlan...</td>\n",
       "    </tr>\n",
       "    <tr>\n",
       "      <th>1</th>\n",
       "      <td>63</td>\n",
       "      <td>1987</td>\n",
       "      <td>Connectivity Versus Entropy</td>\n",
       "      <td>NaN</td>\n",
       "      <td>1 \\n\\nCONNECTIVITY VERSUS ENTROPY \\n\\nYaser  S...</td>\n",
       "    </tr>\n",
       "    <tr>\n",
       "      <th>2</th>\n",
       "      <td>60</td>\n",
       "      <td>1987</td>\n",
       "      <td>The Hopfield Model with Multi-Level Neurons</td>\n",
       "      <td>NaN</td>\n",
       "      <td>278 \\n\\nTHE HOPFIELD MODEL WITH MUL TI-LEVEL N...</td>\n",
       "    </tr>\n",
       "    <tr>\n",
       "      <th>3</th>\n",
       "      <td>59</td>\n",
       "      <td>1987</td>\n",
       "      <td>How Neural Nets Work</td>\n",
       "      <td>NaN</td>\n",
       "      <td>442 \\n\\nAlan  Lapedes \\nRobert  Farber \\n\\nThe...</td>\n",
       "    </tr>\n",
       "    <tr>\n",
       "      <th>4</th>\n",
       "      <td>69</td>\n",
       "      <td>1987</td>\n",
       "      <td>Spatial Organization of Neural Networks: A Pro...</td>\n",
       "      <td>NaN</td>\n",
       "      <td>740 \\n\\nSPATIAL  ORGANIZATION  OF  NEURAL  NEn...</td>\n",
       "    </tr>\n",
       "    <tr>\n",
       "      <th>...</th>\n",
       "      <td>...</td>\n",
       "      <td>...</td>\n",
       "      <td>...</td>\n",
       "      <td>...</td>\n",
       "      <td>...</td>\n",
       "    </tr>\n",
       "    <tr>\n",
       "      <th>9675</th>\n",
       "      <td>5452</td>\n",
       "      <td>2019</td>\n",
       "      <td>Discrete Object Generation with Reversible Ind...</td>\n",
       "      <td>The success of generative modeling in continuo...</td>\n",
       "      <td>Discrete Object Generation\\n\\nwith Reversible ...</td>\n",
       "    </tr>\n",
       "    <tr>\n",
       "      <th>9676</th>\n",
       "      <td>4799</td>\n",
       "      <td>2019</td>\n",
       "      <td>Adaptively Aligned Image Captioning via Adapti...</td>\n",
       "      <td>Recent neural models for image captioning usua...</td>\n",
       "      <td>Adaptively Aligned Image Captioning via\\n\\nAda...</td>\n",
       "    </tr>\n",
       "    <tr>\n",
       "      <th>9677</th>\n",
       "      <td>1827</td>\n",
       "      <td>2019</td>\n",
       "      <td>Fully Dynamic Consistent Facility Location</td>\n",
       "      <td>We consider classic clustering problems in ful...</td>\n",
       "      <td>Fully Dynamic Consistent Facility Location\\n\\n...</td>\n",
       "    </tr>\n",
       "    <tr>\n",
       "      <th>9678</th>\n",
       "      <td>8693</td>\n",
       "      <td>2019</td>\n",
       "      <td>Efficient Rematerialization for Deep Networks</td>\n",
       "      <td>When training complex neural networks, memory ...</td>\n",
       "      <td>Efﬁcient Rematerialization for Deep Networks\\n...</td>\n",
       "    </tr>\n",
       "    <tr>\n",
       "      <th>9679</th>\n",
       "      <td>2302</td>\n",
       "      <td>2019</td>\n",
       "      <td>Flow-based Image-to-Image Translation with Fea...</td>\n",
       "      <td>Learning non-deterministic dynamics and intrin...</td>\n",
       "      <td>Flow-based Image-to-Image Translation\\n\\nwith ...</td>\n",
       "    </tr>\n",
       "  </tbody>\n",
       "</table>\n",
       "<p>9680 rows × 5 columns</p>\n",
       "</div>"
      ],
      "text/plain": [
       "      source_id  year                                              title  \\\n",
       "0            27  1987                         Bit-Serial Neural Networks   \n",
       "1            63  1987                        Connectivity Versus Entropy   \n",
       "2            60  1987        The Hopfield Model with Multi-Level Neurons   \n",
       "3            59  1987                               How Neural Nets Work   \n",
       "4            69  1987  Spatial Organization of Neural Networks: A Pro...   \n",
       "...         ...   ...                                                ...   \n",
       "9675       5452  2019  Discrete Object Generation with Reversible Ind...   \n",
       "9676       4799  2019  Adaptively Aligned Image Captioning via Adapti...   \n",
       "9677       1827  2019         Fully Dynamic Consistent Facility Location   \n",
       "9678       8693  2019      Efficient Rematerialization for Deep Networks   \n",
       "9679       2302  2019  Flow-based Image-to-Image Translation with Fea...   \n",
       "\n",
       "                                               abstract  \\\n",
       "0                                                   NaN   \n",
       "1                                                   NaN   \n",
       "2                                                   NaN   \n",
       "3                                                   NaN   \n",
       "4                                                   NaN   \n",
       "...                                                 ...   \n",
       "9675  The success of generative modeling in continuo...   \n",
       "9676  Recent neural models for image captioning usua...   \n",
       "9677  We consider classic clustering problems in ful...   \n",
       "9678  When training complex neural networks, memory ...   \n",
       "9679  Learning non-deterministic dynamics and intrin...   \n",
       "\n",
       "                                              full_text  \n",
       "0     573 \\n\\nBIT - SERIAL NEURAL  NETWORKS \\n\\nAlan...  \n",
       "1     1 \\n\\nCONNECTIVITY VERSUS ENTROPY \\n\\nYaser  S...  \n",
       "2     278 \\n\\nTHE HOPFIELD MODEL WITH MUL TI-LEVEL N...  \n",
       "3     442 \\n\\nAlan  Lapedes \\nRobert  Farber \\n\\nThe...  \n",
       "4     740 \\n\\nSPATIAL  ORGANIZATION  OF  NEURAL  NEn...  \n",
       "...                                                 ...  \n",
       "9675  Discrete Object Generation\\n\\nwith Reversible ...  \n",
       "9676  Adaptively Aligned Image Captioning via\\n\\nAda...  \n",
       "9677  Fully Dynamic Consistent Facility Location\\n\\n...  \n",
       "9678  Efﬁcient Rematerialization for Deep Networks\\n...  \n",
       "9679  Flow-based Image-to-Image Translation\\n\\nwith ...  \n",
       "\n",
       "[9680 rows x 5 columns]"
      ]
     },
     "execution_count": 34,
     "metadata": {},
     "output_type": "execute_result"
    }
   ],
   "source": [
    "df"
   ]
  },
  {
   "cell_type": "code",
   "execution_count": 42,
   "id": "12f6cd9a-ce38-453b-b521-4d0b40b3fb56",
   "metadata": {},
   "outputs": [
    {
     "name": "stdout",
     "output_type": "stream",
     "text": [
      "<class 'pandas.core.frame.DataFrame'>\n",
      "RangeIndex: 9680 entries, 0 to 9679\n",
      "Data columns (total 5 columns):\n",
      " #   Column     Non-Null Count  Dtype \n",
      "---  ------     --------------  ----- \n",
      " 0   source_id  9680 non-null   int64 \n",
      " 1   year       9680 non-null   int64 \n",
      " 2   title      9680 non-null   object\n",
      " 3   abstract   6361 non-null   object\n",
      " 4   full_text  9677 non-null   object\n",
      "dtypes: int64(2), object(3)\n",
      "memory usage: 378.3+ KB\n"
     ]
    }
   ],
   "source": [
    "df.info()"
   ]
  },
  {
   "cell_type": "code",
   "execution_count": 53,
   "id": "b0fb8b53-0d95-497e-9396-3c0b4d80ad5a",
   "metadata": {},
   "outputs": [],
   "source": [
    "# dropped all columns with abstact and full text null\n",
    "\n",
    "df = df.drop(index = df[df.abstract.isna() & df.full_text.isna()].index)"
   ]
  },
  {
   "cell_type": "code",
   "execution_count": 73,
   "id": "35f4fba0-e8d0-4d81-81e5-d33f6cbffded",
   "metadata": {},
   "outputs": [],
   "source": [
    "def get_abstract(x):\n",
    "    try:\n",
    "        my_abs = x.lower().replace(\"\\n\" , \" \").split(\"abstract\")[1].split(\"introduction\")[0]\n",
    "    except:\n",
    "        my_abs = None\n",
    "    return my_abs"
   ]
  },
  {
   "cell_type": "code",
   "execution_count": 76,
   "id": "9aad59be-f608-4f7c-bd06-207a1f53711d",
   "metadata": {},
   "outputs": [],
   "source": [
    "df[\"new_abstract\"] = df[\"full_text\"][:].apply(get_abstract)"
   ]
  },
  {
   "cell_type": "code",
   "execution_count": 84,
   "id": "f25a8ad5-7453-4e97-b28f-efad436e7bef",
   "metadata": {},
   "outputs": [],
   "source": [
    "# dropping all value with old and new abstract still null\n",
    "\n",
    "df = df.drop(index = df[df.abstract.isna() & df.new_abstract.isna()].index)"
   ]
  },
  {
   "cell_type": "code",
   "execution_count": 92,
   "id": "f813d829-18e2-4569-b6c6-9a7b5c1a5bd1",
   "metadata": {},
   "outputs": [
    {
     "name": "stdout",
     "output_type": "stream",
     "text": [
      "<class 'pandas.core.frame.DataFrame'>\n",
      "Index: 9626 entries, 0 to 9679\n",
      "Data columns (total 6 columns):\n",
      " #   Column        Non-Null Count  Dtype \n",
      "---  ------        --------------  ----- \n",
      " 0   source_id     9626 non-null   int64 \n",
      " 1   year          9626 non-null   int64 \n",
      " 2   title         9626 non-null   object\n",
      " 3   abstract      9626 non-null   object\n",
      " 4   full_text     9625 non-null   object\n",
      " 5   new_abstract  9608 non-null   object\n",
      "dtypes: int64(2), object(4)\n",
      "memory usage: 526.4+ KB\n"
     ]
    }
   ],
   "source": [
    "df[\"abstract\"] = df[\"abstract\"].fillna(df[\"new_abstract\"])\n",
    "df.info()"
   ]
  },
  {
   "cell_type": "code",
   "execution_count": null,
   "id": "294c6b23-9ffb-41e1-a055-e1d9e1d4eccf",
   "metadata": {},
   "outputs": [],
   "source": []
  }
 ],
 "metadata": {
  "kernelspec": {
   "display_name": "my-env",
   "language": "python",
   "name": "my-env"
  },
  "language_info": {
   "codemirror_mode": {
    "name": "ipython",
    "version": 3
   },
   "file_extension": ".py",
   "mimetype": "text/x-python",
   "name": "python",
   "nbconvert_exporter": "python",
   "pygments_lexer": "ipython3",
   "version": "3.12.5"
  }
 },
 "nbformat": 4,
 "nbformat_minor": 5
}
